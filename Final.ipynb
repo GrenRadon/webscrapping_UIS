{
 "cells": [
  {
   "cell_type": "markdown",
   "metadata": {},
   "source": [
    "# ...............................::CORE BOOT::....................................."
   ]
  },
  {
   "cell_type": "markdown",
   "metadata": {},
   "source": [
    "# Instalación ChromeDriver Linux\n",
    "\n",
    "## instalación por ventana de comandos\n",
    "\n",
    "wget https://chromedriver.storage.googleapis.com/2.41/chromedriver_linux64.zip\n",
    "unzip chromedriver_linux64.zip\n",
    "\n",
    "## Como instalar ChromeDriver en linux\n",
    "\n",
    "To install chromedriver:\n",
    "* sudo apt-get install unzip\n",
    "* wget -N http://chromedriver.storage.googleapis.com/2.29/chromedriver_linux64.zip -P ~/Downloads\n",
    "* unzip ~/Downloads/chromedriver_linux64.zip -d ~/Downloads\n",
    "* sudo mv -f ~/Downloads/chromedriver /usr/local/share/\n",
    "* sudo chmod +x /usr/local/share/chromedriver\n",
    "* sudo ln -s /usr/local/share/chromedriver /usr/local/bin/chromedriver\n",
    "* sudo ln -s /usr/local/share/chromedriver /usr/bin/chromedriver\n",
    "\n",
    "* (opcional)unlink [symlink to remove] para remover los enlaces simbólicos\n",
    "\n",
    "## Version generalizada \n",
    "\n",
    "* sudo apt-get install unzip &&\n",
    "* a=$(uname -m) &&\n",
    "* rm -r /tmp/chromedriver/\n",
    "* mkdir /tmp/chromedriver/ &&\n",
    "* wget -O /tmp/chromedriver/LATEST_RELEASE \n",
    "* http://chromedriver.storage.googleapis.com/LATEST_RELEASE &&\n",
    "* if [ $a == i686 ]; then b=32; elif [ $a == x86_64 ]; then b=64; fi &&\n",
    "* latest=$(cat /tmp/chromedriver/LATEST_RELEASE) &&\n",
    "* wget -O /tmp/chromedriver/chromedriver.zip \n",
    "* 'http://chromedriver.storage.googleapis.com/'$latest'/chromedriver_linux'$b'.zip' &&\n",
    "* sudo unzip /tmp/chromedriver/chromedriver.zip chromedriver -d /usr/local/bin/ &&\n",
    "* echo 'success?'\n",
    "\n",
    "\n",
    "It will be succesfully installed\n",
    "To find the path write:\n",
    "$ whereis chromedriver "
   ]
  },
  {
   "cell_type": "markdown",
   "metadata": {},
   "source": [
    "# Personal recommendations for Google Collab settings \n",
    "\n",
    "-> How to install Anaconda in Collab: \n",
    "* https://medium.com/data-professor/how-to-install-conda-on-google-colab-e7bbf9036f76\n",
    "\n",
    "-> How to install ChromeDriver in Collab\n",
    "* https://stackoverflow.com/questions/51046454/how-can-we-use-selenium-webdriver-in-colab-research-google-com\n",
    "\n",
    "-> How to create a yml file for exporting a conda environment\n",
    "* https://conda.io/projects/conda/en/latest/user-guide/tasks/manage-environments.html#creating-an-environment-with-commands (Search by 'Exporting the environment.yml file' title)\n",
    "\n",
    "-> How to import a yml file with an environment already filled with python libraries\n",
    "* https://conda.io/projects/conda/en/latest/user-guide/tasks/manage-environments.html (Search by 'Creating an environment from an environment.yml file' title)\n",
    "\n"
   ]
  },
  {
   "cell_type": "markdown",
   "metadata": {},
   "source": [
    "# Here all information about how to create an excel file from pandas dataframe\n",
    "\n",
    "* https://pythonexamples.org/pandas-write-dataframe-to-excel-sheet/\n",
    "* https://stackoverflow.com/questions/31909722/how-to-write-python-array-into-excel-spread-sheet\n",
    "* https://xlsxwriter.readthedocs.io/tutorial01.html\n",
    "* https://stackoverflow.com/questions/21981820/creating-multiple-excel-worksheets-using-data-in-a-pandas-dataframe\n",
    "* https://stackoverflow.com/questions/60756658/pandas-merge-a-list-in-a-dataframe-column-with-another-dataframe\n",
    "* https://thispointer.com/python-pandas-how-to-add-new-columns-in-a-dataframe-using-or-dataframe-assign/"
   ]
  },
  {
   "cell_type": "code",
   "execution_count": 1,
   "metadata": {},
   "outputs": [],
   "source": [
    "#Cargue de librerías y metodos de las mismas\n",
    "import pandas as pd\n",
    "import numpy as np\n",
    "import requests\n",
    "import urllib.request\n",
    "import time\n",
    "from bs4 import BeautifulSoup\n",
    "from lxml import html\n",
    "\n",
    "from PIL import Image #For displaying images\n",
    "\n",
    "from selenium import webdriver   # for webdriver\n",
    "from selenium.webdriver.support.ui import WebDriverWait  # for implicit and explict waits\n",
    "from selenium.webdriver.chrome.options import Options  # for suppressing the browser\n",
    "from pyvirtualdisplay import Display\n",
    "import pyautogui\n",
    "\n",
    "from selenium.webdriver.common.keys import Keys\n",
    "from selenium.webdriver.common.by import By\n",
    "from selenium.webdriver.support import expected_conditions as EC\n",
    "from selenium.webdriver.support.ui import WebDriverWait\n",
    "\n",
    "import subprocess\n",
    "from webdriver_manager.chrome import ChromeDriverManager\n",
    "from subprocess import Popen, PIPE\n",
    "import platform\n",
    "import os\n",
    "import inspect\n",
    "import datetime\n",
    "import unidecode\n",
    "\n",
    "#libraries for handling with exceptions\n",
    "from selenium.common.exceptions import NoSuchElementException\n",
    "from selenium.common.exceptions import StaleElementReferenceException"
   ]
  },
  {
   "cell_type": "code",
   "execution_count": 2,
   "metadata": {},
   "outputs": [],
   "source": [
    "####################\n",
    "#declared Functions#\n",
    "####################\n",
    "\n",
    "#working properly :D\n",
    "def creatingAndStoringChromeDriver(flag):\n",
    "    \n",
    "    if flag==0:\n",
    "        #Esta línea solo cuando ya esté creando el final\n",
    "        #cmd=\"mkdir -m 777 ChromeDriver\"\n",
    "        #proc = subprocess.Popen(cmd, shell=True, stdout=subprocess.PIPE)\n",
    "        driver_path = ChromeDriverManager(path=r'ChromeDriver').install()\n",
    "\n",
    "    script_dir = os.path.dirname(os.path.abspath(r\"__file__\")) #<-- absolute dir the script is in\n",
    "\n",
    "    subStr=[x[0] for x in os.walk(\"ChromeDriver\")]\n",
    "    finalStr=subStr[4]\n",
    "    numStr=finalStr.find(\"linux64/\")+len(\"linux64/\")\n",
    "    finalStr=finalStr[numStr:]\n",
    "\n",
    "    rel_path = r\"ChromeDriver/drivers/chromedriver/linux64/\"+finalStr+r\"/chromedriver\"\n",
    "    CDPath = os.path.join(script_dir, rel_path)\n",
    "\n",
    "    return CDPath\n",
    "\n",
    "    \n",
    "#working properly\n",
    "def checkIfWDMInstalled():\n",
    "    #List of commands to be executed\n",
    "    cmd1=\"echo $CONDA_DEFAULT_ENV\"\n",
    "    cmd2=\"conda list\"\n",
    "    proc = subprocess.Popen(cmd1, shell=True, stdout=subprocess.PIPE)\n",
    "    print(\" \")\n",
    "    print(\" #################################################################\")\n",
    "    print(\" Environment activo: \"+(proc.communicate()[0]).decode())\n",
    "    installed_packages=[]\n",
    "    proc = subprocess.Popen(cmd2, shell=True, stdout=subprocess.PIPE)\n",
    "    installed_packages=(proc.communicate()[0]).decode()\n",
    "    count=0\n",
    "    if installed_packages.find(\"webdriver-manager\")!=-1:#This line is used to find a subtring\n",
    "        count+=1 \n",
    "    else:\n",
    "        pass\n",
    "    if count==1:\n",
    "        return True\n",
    "    else:\n",
    "        return False\n",
    "        \n",
    "#Working properly :)\n",
    "def installingWebDriver_Manager():\n",
    "    if checkIfWDMInstalled()==False:\n",
    "        print(\"#Webdriver-manager module was not found at conda list of elements#\")\n",
    "        print(\"#Installing...                                                   #\")\n",
    "        #Here to install PIP in conda env\n",
    "\n",
    "        #Here we execute a command line for knowing our conda path\n",
    "        with Popen(['whereis', 'conda'], stdout=PIPE, bufsize=1, universal_newlines=True) as p:\n",
    "            for line in p.stdout:\n",
    "                pass\n",
    "        #Here we get the number of positions of one string element to define a substring that has a different size, \n",
    "        #Especifically, taking the all size minus the condabine string size.\n",
    "        size=line.find(\"condabin\")\n",
    "        line = line[len(\"conda\")+2:size]\n",
    "        line=line+'envs/Bots/bin'\n",
    "        \n",
    "        \n",
    "        Popen([line+'/pip', 'install webdriver-manager'], stdout=PIPE, bufsize=1, universal_newlines=True)\n",
    "        print(\" ¡Done!                                                           \")\n",
    "        print(\"##################################################################\")\n",
    "    else:\n",
    "        print(\" Webdriver-manager module was found at conda list of elements    \")\n",
    "        print(\" #################################################################\")\n",
    "\n",
    "#Working properly :)\n",
    "def gettingExplorerPath(explorer):\n",
    "    with Popen(['whereis', explorer], stdout=PIPE, bufsize=1, universal_newlines=True) as b:\n",
    "        for list_2 in b.stdout:   \n",
    "            #print(\"Here after getting list of elements: \"+list_2)\n",
    "            pass\n",
    "    num=list_2.find(explorer+\" \")\n",
    "    list_2=list_2[0:num]\n",
    "    num2=list_2.find(\"/\")\n",
    "    list_2=list_2[num2:num]\n",
    "    list_2=list_2+explorer\n",
    "    googleChromePath=list_2\n",
    "    return googleChromePath\n",
    "\n",
    "#Working properly \n",
    "def creacionDriver(url_Envio,p):\n",
    "    #pyautogui obtiene el tamaño en ancho y alto como enteros\n",
    "    WINDOW_SIZE= pyautogui.size() #Ancho y alto\n",
    "    #Aquí lo convertimos en un string\n",
    "    WINDOW_S=str(WINDOW_SIZE[0])+\",\"+str(WINDOW_SIZE[1])\n",
    "    #Declaramos el path donde está el ejecutable de chrome\n",
    "    CHROME_PATH = gettingExplorerPath(\"google-chrome\")\n",
    "    #Declaramos el path de donde instalamos el chromedriver\n",
    "    CHROMEDRIVER_PATH = creatingAndStoringChromeDriver(p)\n",
    "    \n",
    "    #Declaración de opciones del driver\n",
    "    chrome_options = Options()\n",
    "    #Line to comment or uncomment for show and hide Google Chrome Window\n",
    "    chrome_options.add_argument(\"--headless\")\n",
    "    chrome_options.add_argument(\"--no-sandbox\")\n",
    "    chrome_options.add_argument(\"--window-size=%s\" % WINDOW_S)  \n",
    "    #This specific line hides any warning from WDM Manager\n",
    "    #chrome_options.add_argument(\"--log-level=OFF\")\n",
    "    chrome_options.binary_location = CHROME_PATH\n",
    "    \n",
    "    \n",
    "    driver = webdriver.Chrome(executable_path=CHROMEDRIVER_PATH,chrome_options=chrome_options) \n",
    "    from_url = url_Envio\n",
    "    \n",
    "    driver.get(from_url)\n",
    "    \n",
    "    return driver\n",
    "\n",
    "#Working properly\n",
    "def explorar(h,driver): \n",
    "    textBox_by_id = driver.find_element_by_id(\"form:txtNombreAsignatura\")\n",
    "    textBox_by_id.send_keys(h)\n",
    "    #se configura el wait debido a que causa errores. \n",
    "    #Link: https://stackoverflow.com/questions/61397545/sending-keys-to-a-textbox-using-selenium-in-python-not-working\n",
    "    #https://stackoverflow.com/questions/16180428/can-selenium-webdriver-open-browser-windows-silently-in-the-background\n",
    "    wait = WebDriverWait(driver, 2)\n",
    "    el = wait.until(EC.element_to_be_clickable((By.NAME, \"form:btnConsultaAsignatura\")))\n",
    "    el.click()\n",
    "    \n",
    "#working properly\n",
    "def explorar_finish(driver):\n",
    "    #The close() method terminates the loaded browser window. The quit() method ends the WebDriver application\n",
    "    driver.quit()\n",
    "\n",
    "#working properly \n",
    "def obtenerListadoMaterias(flag):\n",
    "    materias_Base=['Fisica I', 'Fisica II', \n",
    "               'Fisica III', 'Quimica Basica'\n",
    "               ]\n",
    "    #'Quimica I', 'Quimica II', 'Quimica III', \n",
    "               #'Biologia para ingenieros', \n",
    "               #'Introduccion a la Ingenieria'\n",
    "    \n",
    "    if(flag==1):\n",
    "        return materias_Base\n",
    "\n",
    "    else:\n",
    "        print('Lista de materias a consultar: \\n\\n')\n",
    "        for i in range(len(materias_Base)):\n",
    "            print(str(i+1)+' '+materias_Base[i])\n",
    "\n",
    "        tmp=input('¿Desea agregar una materia adicional? (S:sí N:No): ')\n",
    "        while tmp=='S':\n",
    "            entryMateriasBase=input('Por favor, digite la materia (sin tíldes): ')\n",
    "            materias_Base.append(entryMateriasBase)\n",
    "            tmp=input('¿Desea agregar una materia adicional? (S:sí N:No): ')\n",
    "\n",
    "\n",
    "        if tmp=='N' or tmp=='n' or tmp!='S' or tmp!='s':\n",
    "            print('\\n')\n",
    "            print('Lista de materias a consultar actualizada: \\n\\n')\n",
    "            for i in range(len(materias_Base)):\n",
    "                print(str(i+1)+' '+materias_Base[i])\n",
    "            print('\\n')\n",
    "\n",
    "        return materias_Base\n",
    "    \n",
    "def returnCorrectNames(entry):\n",
    "    if entry=='FISICA I':\n",
    "        return 'F1'\n",
    "    elif entry=='LABORATORIO DE FISICA I':\n",
    "        return 'LabF1'\n",
    "    elif entry=='FISICA II':\n",
    "        return 'F2'\n",
    "    elif entry=='LABORATORIO DE FISICA II':\n",
    "        return 'LabF2'\n",
    "    elif entry=='FISICA III':\n",
    "        return 'F3'\n",
    "    elif entry=='LABORATORIO DE FISICA III':\n",
    "        return 'LabF3'\n",
    "    elif entry=='QUIMICA I':\n",
    "        return 'Q1'\n",
    "    elif entry=='QUIMICA II':\n",
    "        return 'Q2'\n",
    "    elif entry=='QUIMICA III':\n",
    "        return 'Q3'\n",
    "    elif entry=='QUIMICA BASICA':\n",
    "        return 'QB'\n",
    "    elif entry=='BIOLOGIA PARA INGENIEROS':\n",
    "        return 'Bio'\n",
    "    elif entry=='INTRODUCCION A LA INGENIERIA':\n",
    "        return 'IntroIng'\n",
    "    else:\n",
    "        pass\n",
    "        \n",
    "def activateCondaEnv():\n",
    "    with Popen(['whereis', 'conda'], stdout=PIPE, bufsize=1, universal_newlines=True) as p:\n",
    "            for line in p.stdout:\n",
    "                pass\n",
    "\n",
    "    size=line.find(\"condabin\")\n",
    "    line = line[len(\"conda\")+2:size]\n",
    "    line=line+'etc/profile.d/conda.sh'\n",
    "    cmd=line+\" || \"+\"conda activate Bots\"\n",
    "    proc = subprocess.Popen(cmd, shell=True, stdout=subprocess.PIPE)\n",
    "    \n",
    "    \n",
    "def obtenerResultados(driver,compare): \n",
    "    wait = WebDriverWait(driver, 3)\n",
    "    el=wait.until(EC.presence_of_element_located((By.ID, 'form:dtlListadoProgramadas_data')))\n",
    "    entries = el.find_elements_by_tag_name('tr')#Esta linea captura toda la fila completa\n",
    "    \n",
    "    Codigo_asignatura=[]\n",
    "    Nombre_asignatura=[]\n",
    "    Grupo=[]\n",
    "    Capacidad=[]\n",
    "    Matriculados=[]\n",
    "    Horario=[]\n",
    "    \n",
    "    #Cantidad grupos\n",
    "    #cantGruposPorCurso=0\n",
    "    #cantMatriculadosPorCurso=0\n",
    "    \n",
    "    tmpIndex=2\n",
    "    inCount=0\n",
    "    for i in range(len(entries)):  \n",
    "        \n",
    "        if(entries[i].find_element_by_xpath(\"//*[@id='form:dtlListadoProgramadas_data']/tr[\"+str(i+1)+\"]/td[2]\").text==compare):\n",
    "            #Auí para prueba\n",
    "            #cantGruposPorCurso+=1\n",
    "            inCount+=1\n",
    "            Codigo_asignatura.append(entries[i].find_element_by_xpath(\"//*[@id='form:dtlListadoProgramadas_data']/tr[\"+str(i+1)+\"]/td[1]\").text)\n",
    "            Nombre_asignatura.append(entries[i].find_element_by_xpath(\"//*[@id='form:dtlListadoProgramadas_data']/tr[\"+str(i+1)+\"]/td[2]\").text)\n",
    "            Grupo.append(entries[i].find_element_by_xpath(\"//*[@id='form:dtlListadoProgramadas_data']/tr[\"+str(i+1)+\"]/td[3]\").text)\n",
    "            Capacidad.append(entries[i].find_element_by_xpath(\"//*[@id='form:dtlListadoProgramadas_data']/tr[\"+str(i+1)+\"]/td[4]\").text)\n",
    "            Matriculados.append(entries[i].find_element_by_xpath(\"//*[@id='form:dtlListadoProgramadas_data']/tr[\"+str(i+1)+\"]/td[5]\").text)\n",
    "             \n",
    "            #Access to every schedule by clicking \n",
    "            el = wait.until(EC.element_to_be_clickable((By.ID,\"form:dtlListadoProgramadas:\"+str(i)+\":btnIrVer\")))\n",
    "            el.click()\n",
    "            #This is a really important line cause if so we couldn't stop some time the windows and it will crash\n",
    "            #The normal and completed web scrapping process\n",
    "            time.sleep(0.7)\n",
    "            \n",
    "            el=wait.until(EC.presence_of_element_located((By.ID, 'formHorario:dtlListadoParciales_data')))\n",
    "            entries2 = el.find_elements_by_tag_name('tr')#Esta linea captura toda la fila completa\n",
    "\n",
    "            #Lists for every table from every course\n",
    "            Dia=[]\n",
    "            Hora=[]\n",
    "            Edificio=[]\n",
    "            Aula=[]\n",
    "            Profesor=[]\n",
    "            \n",
    "            ##En construcción esta sección\n",
    "            for j in range(len(entries2)):\n",
    "                Dia.append(entries2[j].find_element_by_xpath(\"//*[@id='formHorario:dtlListadoParciales_data']/tr[\"+str(j+1)+\"]/td[1]\").text)\n",
    "                Hora.append(entries2[j].find_element_by_xpath(\"//*[@id='formHorario:dtlListadoParciales_data']/tr[\"+str(j+1)+\"]/td[2]\").text)\n",
    "                Edificio.append(entries2[j].find_element_by_xpath(\"//*[@id='formHorario:dtlListadoParciales_data']/tr[\"+str(j+1)+\"]/td[3]\").text)\n",
    "                Aula.append(entries2[j].find_element_by_xpath(\"//*[@id='formHorario:dtlListadoParciales_data']/tr[\"+str(j+1)+\"]/td[4]\").text)\n",
    "                Profesor.append(entries2[j].find_element_by_xpath(\"//*[@id='formHorario:dtlListadoParciales_data']/tr[\"+str(j+1)+\"]/td[5]\").text)\n",
    "            \n",
    "            #Here we convert the lists of the schedule table to a pandas dataframe\n",
    "            index=[inCount]*len(entries2)\n",
    "            dschedule = pd.DataFrame(list(zip(Dia, Hora, Edificio, Aula, Profesor)),columns =['Dia', 'Hora', 'Edificio', 'Aula', 'Profesor'])\n",
    "            dschedule['index']=index\n",
    "            \n",
    "            dschedule=dschedule.set_index('index').rename_axis(index=None)\n",
    "            \n",
    "\n",
    "            Horario.append(dschedule)\n",
    "            \n",
    "            time.sleep(0.1)\n",
    "            xpath = \"//*[@id='formHorario:j_idt69']/div[1]/a\"\n",
    "            your_element=wait.until(EC.element_to_be_clickable((By.XPATH,xpath)))\n",
    "            your_element.click()\n",
    "                         \n",
    "            \n",
    "        else:\n",
    "            pass\n",
    "        \n",
    "    \n",
    "    #for k in range(len(Matriculados)):\n",
    "        #Aquí para prueba\n",
    "    #    cantMatriculadosPorCurso+=int(Matriculados[k])\n",
    "    \n",
    "    return Codigo_asignatura,Nombre_asignatura,Grupo,Capacidad,Matriculados, Horario#, cantGruposPorCurso, cantMatriculadosPorCurso\n",
    "   \n",
    "    \n",
    "def createsAndSavesFinalProduct(mother,mBase,sede):\n",
    "    #Here we create the excel to an specific folder\n",
    "    now = datetime.datetime.now()\n",
    "    excelFileName=r\"Output\"+r\"-\"+str(now.year)+r\"-\"+str(now.month)+r\"-\"+str(now.day)+r\"-\"+str(now.hour)\\\n",
    "        +r\"-\"+str(now.minute)+r\"-\"+str(now.second)\n",
    "\n",
    "    script_dir = os.path.dirname(os.path.abspath(r\"__file__\"))\n",
    "    if sede=='Sede Principal':\n",
    "        rel_path = r\"Output/Sede Principal/\"+excelFileName+r\".xlsx\"\n",
    "    elif sede=='Sede Barranca':\n",
    "        rel_path = r\"Output/Sede Barranca/\"+excelFileName+r\".xlsx\"\n",
    "    elif sede=='Sede Barbosa':\n",
    "        rel_path = r\"Output/Sede Barbosa/\"+excelFileName+r\".xlsx\"\n",
    "    elif sede=='Sede Malaga':\n",
    "        rel_path = r\"Output/Sede Malaga/\"+excelFileName+r\".xlsx\"\n",
    "    else:\n",
    "        rel_path = r\"Output/Sede Socorro/\"+excelFileName+r\".xlsx\"\n",
    "        \n",
    "    #Here we mix both paths, absolute path to current folder and relative path to the specific folder \n",
    "    #we want to use\n",
    "    \n",
    "    CDPath = os.path.join(script_dir, rel_path)\n",
    "    \n",
    "    writer = pd.ExcelWriter(CDPath)\n",
    "    \n",
    "    \n",
    "    for i in range(len(mBase)):\n",
    "          \n",
    "        all_df=[]\n",
    "        mother[i].to_excel(writer, returnCorrectNames(mBase[i]))\n",
    "        for j in range(len(mother[i])):\n",
    "            all_df.append(mother[i]['Horario'][j])\n",
    "        merged=pd.concat(all_df)\n",
    "        merged.to_excel(writer, returnCorrectNames(mBase[i])+r\"Hor\")\n",
    "        \n",
    "       \n",
    "    writer.save()    \n",
    "    \n",
    "#Working properly   \n",
    "def menu_entrada():\n",
    "    print('       000000   OOOOOO    00000000     0000000000      000000       000000   00000000000 ')\n",
    "    print('    00000      000  000   000  0000    0000000000      000  000    000  000  00000000000 ')\n",
    "    print('  0000        000    000  000   000    000             000   00   000    000     000     ')\n",
    "    print('  000         000    000  000 0000     000             000  00    000    000     000     ')\n",
    "    print('  000         000    000  000000       000000000       0000000    000    000     000     ')\n",
    "    print('  000         000    000  000 000      000000000       000   000  000    000     000     ')\n",
    "    print('  000         000    000  000  000     000             000     00 000    000     000     ')\n",
    "    print('  0000        000    000  000    000   000             000     00 000    000     000     ')\n",
    "    print('    00000      000  000   000     000  0000000000      000000000   00    00      000     ')\n",
    "    print('       000000   000000    000      000 0000000000      0000000      000000       000     ')\n",
    "    print('By: Julián v.p')\n"
   ]
  },
  {
   "cell_type": "markdown",
   "metadata": {},
   "source": [
    "# Sede Principal\n"
   ]
  },
  {
   "cell_type": "code",
   "execution_count": 3,
   "metadata": {
    "scrolled": true
   },
   "outputs": [
    {
     "name": "stdout",
     "output_type": "stream",
     "text": [
      "       000000   OOOOOO    00000000     0000000000      000000       000000   00000000000 \n",
      "    00000      000  000   000  0000    0000000000      000  000    000  000  00000000000 \n",
      "  0000        000    000  000   000    000             000   00   000    000     000     \n",
      "  000         000    000  000 0000     000             000  00    000    000     000     \n",
      "  000         000    000  000000       000000000       0000000    000    000     000     \n",
      "  000         000    000  000 000      000000000       000   000  000    000     000     \n",
      "  000         000    000  000  000     000             000     00 000    000     000     \n",
      "  0000        000    000  000    000   000             000     00 000    000     000     \n",
      "    00000      000  000   000     000  0000000000      000000000   00    00      000     \n",
      "       000000   000000    000      000 0000000000      0000000      000000       000     \n",
      "By: Julián v.p\n",
      " \n",
      " #################################################################\n",
      " Environment activo: Bots\n",
      "\n",
      " Webdriver-manager module was found at conda list of elements    \n",
      " #################################################################\n",
      "Lista de materias a consultar: \n",
      "\n",
      "\n",
      "1 Fisica I\n",
      "2 Fisica II\n",
      "3 Fisica III\n",
      "4 Quimica Basica\n",
      "¿Desea agregar una materia adicional? (S:sí N:No): N\n"
     ]
    },
    {
     "name": "stderr",
     "output_type": "stream",
     "text": [
      "[WDM] - \n",
      "\n",
      "[WDM] - ====== WebDriver manager ======\n",
      "[WDM] - Current google-chrome version is 94.0.4606\n",
      "[WDM] - Get LATEST driver version for 94.0.4606\n"
     ]
    },
    {
     "name": "stdout",
     "output_type": "stream",
     "text": [
      "\n",
      "\n",
      "Lista de materias a consultar actualizada: \n",
      "\n",
      "\n",
      "1 Fisica I\n",
      "2 Fisica II\n",
      "3 Fisica III\n",
      "4 Quimica Basica\n",
      "\n",
      "\n"
     ]
    },
    {
     "name": "stderr",
     "output_type": "stream",
     "text": [
      "[WDM] - Driver [ChromeDriver/drivers/chromedriver/linux64/94.0.4606.113/chromedriver] found in cache\n",
      "<ipython-input-2-6eb184940c48>:110: DeprecationWarning: use options instead of chrome_options\n",
      "  driver = webdriver.Chrome(executable_path=CHROMEDRIVER_PATH,chrome_options=chrome_options)\n"
     ]
    },
    {
     "name": "stdout",
     "output_type": "stream",
     "text": [
      "\n",
      "\n",
      "Para la asignatura FISICA I\n",
      "\n",
      "\n"
     ]
    },
    {
     "ename": "AttributeError",
     "evalue": "'str' object has no attribute 'loc'",
     "output_type": "error",
     "traceback": [
      "\u001b[0;31m---------------------------------------------------------------------------\u001b[0m",
      "\u001b[0;31mAttributeError\u001b[0m                            Traceback (most recent call last)",
      "\u001b[0;32m<ipython-input-3-ff7193ee08a4>\u001b[0m in \u001b[0;36m<module>\u001b[0;34m\u001b[0m\n\u001b[1;32m     44\u001b[0m \u001b[0;34m\u001b[0m\u001b[0m\n\u001b[1;32m     45\u001b[0m             \u001b[0mexplorar\u001b[0m\u001b[0;34m(\u001b[0m\u001b[0mmBase\u001b[0m\u001b[0;34m[\u001b[0m\u001b[0mi\u001b[0m\u001b[0;34m]\u001b[0m\u001b[0;34m,\u001b[0m\u001b[0mChromeDriver\u001b[0m\u001b[0;34m)\u001b[0m\u001b[0;34m\u001b[0m\u001b[0;34m\u001b[0m\u001b[0m\n\u001b[0;32m---> 46\u001b[0;31m             \u001b[0mCodigo_asignatura\u001b[0m\u001b[0;34m,\u001b[0m\u001b[0mNombre_asignatura\u001b[0m\u001b[0;34m,\u001b[0m\u001b[0mGrupo\u001b[0m\u001b[0;34m,\u001b[0m\u001b[0mCapacidad\u001b[0m\u001b[0;34m,\u001b[0m\u001b[0mMatriculados\u001b[0m\u001b[0;34m,\u001b[0m\u001b[0mSchedule\u001b[0m\u001b[0;34m=\u001b[0m\u001b[0mobtenerResultados\u001b[0m\u001b[0;34m(\u001b[0m\u001b[0mChromeDriver\u001b[0m\u001b[0;34m,\u001b[0m\u001b[0mmBase\u001b[0m\u001b[0;34m[\u001b[0m\u001b[0mi\u001b[0m\u001b[0;34m]\u001b[0m\u001b[0;34m)\u001b[0m\u001b[0;34m\u001b[0m\u001b[0;34m\u001b[0m\u001b[0m\n\u001b[0m\u001b[1;32m     47\u001b[0m             \u001b[0;31m#, cantGruposPorCurso, cantMatriculadosPorCurso\u001b[0m\u001b[0;34m\u001b[0m\u001b[0;34m\u001b[0m\u001b[0;34m\u001b[0m\u001b[0m\n\u001b[1;32m     48\u001b[0m \u001b[0;34m\u001b[0m\u001b[0m\n",
      "\u001b[0;32m<ipython-input-2-6eb184940c48>\u001b[0m in \u001b[0;36mobtenerResultados\u001b[0;34m(driver, compare)\u001b[0m\n\u001b[1;32m    263\u001b[0m             \u001b[0mdschedule\u001b[0m \u001b[0;34m=\u001b[0m \u001b[0mpd\u001b[0m\u001b[0;34m.\u001b[0m\u001b[0mDataFrame\u001b[0m\u001b[0;34m(\u001b[0m\u001b[0mlist\u001b[0m\u001b[0;34m(\u001b[0m\u001b[0mzip\u001b[0m\u001b[0;34m(\u001b[0m\u001b[0mDia\u001b[0m\u001b[0;34m,\u001b[0m \u001b[0mHora\u001b[0m\u001b[0;34m,\u001b[0m \u001b[0mEdificio\u001b[0m\u001b[0;34m,\u001b[0m \u001b[0mAula\u001b[0m\u001b[0;34m,\u001b[0m \u001b[0mProfesor\u001b[0m\u001b[0;34m)\u001b[0m\u001b[0;34m)\u001b[0m\u001b[0;34m,\u001b[0m\u001b[0mcolumns\u001b[0m \u001b[0;34m=\u001b[0m\u001b[0;34m[\u001b[0m\u001b[0;34m'Dia'\u001b[0m\u001b[0;34m,\u001b[0m \u001b[0;34m'Hora'\u001b[0m\u001b[0;34m,\u001b[0m \u001b[0;34m'Edificio'\u001b[0m\u001b[0;34m,\u001b[0m \u001b[0;34m'Aula'\u001b[0m\u001b[0;34m,\u001b[0m \u001b[0;34m'Profesor'\u001b[0m\u001b[0;34m]\u001b[0m\u001b[0;34m)\u001b[0m\u001b[0;34m\u001b[0m\u001b[0;34m\u001b[0m\u001b[0m\n\u001b[1;32m    264\u001b[0m             \u001b[0mdschedule\u001b[0m\u001b[0;34m[\u001b[0m\u001b[0;34m'index'\u001b[0m\u001b[0;34m]\u001b[0m\u001b[0;34m=\u001b[0m\u001b[0mindex\u001b[0m\u001b[0;34m\u001b[0m\u001b[0;34m\u001b[0m\u001b[0m\n\u001b[0;32m--> 265\u001b[0;31m             \u001b[0mdschedule\u001b[0m\u001b[0;34m=\u001b[0m\u001b[0mdschedule\u001b[0m\u001b[0;34m.\u001b[0m\u001b[0mloc\u001b[0m\u001b[0;34m[\u001b[0m\u001b[0mdschedule\u001b[0m\u001b[0;34m[\u001b[0m\u001b[0;34m'index'\u001b[0m\u001b[0;34m]\u001b[0m\u001b[0;34m.\u001b[0m\u001b[0mduplicated\u001b[0m\u001b[0;34m(\u001b[0m\u001b[0;34m)\u001b[0m\u001b[0;34m,\u001b[0m\u001b[0;34m'index'\u001b[0m\u001b[0;34m]\u001b[0m\u001b[0;34m=\u001b[0m\u001b[0;34m''\u001b[0m\u001b[0;34m\u001b[0m\u001b[0;34m\u001b[0m\u001b[0m\n\u001b[0m\u001b[1;32m    266\u001b[0m             \u001b[0mdschedule\u001b[0m\u001b[0;34m=\u001b[0m\u001b[0mdschedule\u001b[0m\u001b[0;34m.\u001b[0m\u001b[0mset_index\u001b[0m\u001b[0;34m(\u001b[0m\u001b[0;34m'index'\u001b[0m\u001b[0;34m)\u001b[0m\u001b[0;34m.\u001b[0m\u001b[0mrename_axis\u001b[0m\u001b[0;34m(\u001b[0m\u001b[0mindex\u001b[0m\u001b[0;34m=\u001b[0m\u001b[0;32mNone\u001b[0m\u001b[0;34m)\u001b[0m\u001b[0;34m\u001b[0m\u001b[0;34m\u001b[0m\u001b[0m\n\u001b[1;32m    267\u001b[0m \u001b[0;34m\u001b[0m\u001b[0m\n",
      "\u001b[0;31mAttributeError\u001b[0m: 'str' object has no attribute 'loc'"
     ]
    }
   ],
   "source": [
    "if platform.system()=='Linux':\n",
    "\n",
    "    menu_entrada()\n",
    "    #This line is used for enables the current environment(using Popen)\n",
    "    #This line will work once we execute the program with root permission\n",
    "    activateCondaEnv()\n",
    "    installingWebDriver_Manager()#For make sure WebDriver is installed\n",
    "    #Declaracion de la url de la pagina principal\n",
    "    sedePrincipalURL='https://www.uis.edu.co/estudiantesWebJ8/pages/externo/consultarAsignaturaProgramada.jsf'\n",
    "    #Impresion del mensaje de bienvenida\n",
    "\n",
    "    #Declarando el nombre y llenando la lista principal\n",
    "    mBase=[]\n",
    "    mother=[]\n",
    "    mBase=obtenerListadoMaterias(0)\n",
    "    sede='Sede Principal'\n",
    "\n",
    "    #Calling to function to get all courses list\n",
    "    mBase=obtenerListadoMaterias(1)\n",
    "    #Converting to upper case all elements from listed courses\n",
    "    for i in range(len(mBase)):\n",
    "        mBase[i]=unidecode.unidecode(mBase[i].upper())\n",
    "    \n",
    "    #This example line is used to create an excel file\n",
    "    #workbook = xlsxwriter.Workbook(CDPath)\n",
    "    #materias=obtenerListadoMaterias(1)\n",
    "    #for i in range(len(materias)):\n",
    "    #    worksheet = workbook.add_worksheet(materias[i])\n",
    "    #workbook.close()\n",
    "    #print('DataFrame is written successfully to Excel Sheet.')\n",
    "    \n",
    "\n",
    "    flag=True\n",
    "    while flag==True:    \n",
    "        for i in range(len(mBase)):\n",
    "            #Comando para crear un driver usando el ejecutable de ChromeDriver y este se retorna \n",
    "            #siendo almacenado en ChromeDriver\n",
    "            ChromeDriver=creacionDriver(sedePrincipalURL,i)\n",
    "            \n",
    "            #This 2 lines are for printing the course name\n",
    "            print('\\n')\n",
    "            print('Para la asignatura '+mBase[i]+'\\n\\n')\n",
    "            #---------------------------------------------\n",
    "            \n",
    "            explorar(mBase[i],ChromeDriver)\n",
    "            Codigo_asignatura,Nombre_asignatura,Grupo,Capacidad,Matriculados,Schedule=obtenerResultados(ChromeDriver,mBase[i])\n",
    "            #, cantGruposPorCurso, cantMatriculadosPorCurso\n",
    "            \n",
    "            #Creates pandas DataFrame.\n",
    "            df1 = pd.DataFrame(list(zip(Codigo_asignatura, Nombre_asignatura,Grupo,Capacidad,Matriculados)),\n",
    "                   columns =['Código asignatura', 'Nombre asignatura', 'Grupo', 'Capacidad', 'Matriculados'])\n",
    "\n",
    "            df2=pd.DataFrame({'Horario':Schedule})\n",
    "\n",
    "            df=pd.merge(\n",
    "                df1,\n",
    "                df2,\n",
    "                how='left',\n",
    "                left_index=True, # Merge on both indexes, since right only has 0...\n",
    "                right_index=True # all the other rows will be NaN\n",
    "            )\n",
    "            \n",
    "            \n",
    "\n",
    "            #This lines are for printing the whole pandas dataframe on each course. \n",
    "            #df.index = np.arange(1,len(df)+1)#para comenzar el index en 1\n",
    "            #with pd.option_context('display.max_rows', None, 'display.max_columns', None):  # more options \n",
    "                #-->can be specified also\n",
    "            #    print(df)\n",
    "\n",
    "            #Here we have a list that stores all pandas dataframes that comes from every course in the mother list\n",
    "            mother.append(df)\n",
    "            \n",
    "            #print(\"Cantidad de grupos en el curso de \"+mBase[i]+\": \"+str(cantGruposPorCurso))\n",
    "            #print(\"Cantidad de Matriculados en este curso: \"+str(cantMatriculadosPorCurso))\n",
    "            \n",
    "            \n",
    "            \n",
    "\n",
    "        tmp=input('Desea continuar evaluando 1:Sí, 2:No: ')\n",
    "        if tmp=='1':\n",
    "            flag=True\n",
    "            ChromeDriver.close()\n",
    "            mBase=obtenerListadoMaterias(0)\n",
    "        else:\n",
    "            flag=False\n",
    "            createsAndSavesFinalProduct(mother,mBase,sede)\n",
    "            ChromeDriver.close(\n",
    "            \n",
    "            )\n",
    "            explorar_finish(ChromeDriver)\n",
    "else: \n",
    "    print(\"Estamos en Windows, nea\")\n",
    "\n"
   ]
  },
  {
   "cell_type": "markdown",
   "metadata": {},
   "source": [
    "## Sede Barranca\n"
   ]
  },
  {
   "cell_type": "code",
   "execution_count": 5,
   "metadata": {},
   "outputs": [
    {
     "name": "stdout",
     "output_type": "stream",
     "text": [
      "       000000   OOOOOO    00000000     0000000000      000000       000000   00000000000 \n",
      "    00000      000  000   000  0000    0000000000      000  000    000  000  00000000000 \n",
      "  0000        000    000  000   000    000             000   00   000    000     000     \n",
      "  000         000    000  000 0000     000             000  00    000    000     000     \n",
      "  000         000    000  000000       000000000       0000000    000    000     000     \n",
      "  000         000    000  000 000      000000000       000   000  000    000     000     \n",
      "  000         000    000  000  000     000             000     00 000    000     000     \n",
      "  0000        000    000  000    000   000             000     00 000    000     000     \n",
      "    00000      000  000   000     000  0000000000      000000000   00    00      000     \n",
      "       000000   000000    000      000 0000000000      0000000      000000       000     \n",
      "By: Julián v.p\n",
      " \n",
      " #################################################################\n",
      " Environment activo: Bots\n",
      "\n",
      " Webdriver-manager module was found at conda list of elements    \n",
      " #################################################################\n",
      "Lista de materias a consultar: \n",
      "\n",
      "\n",
      "1 Fisica I\n",
      "2 Fisica II\n",
      "3 Fisica III\n",
      "4 Quimica Basica\n",
      "5 Quimica I\n",
      "6 Quimica II\n",
      "7 Quimica III\n",
      "8 Biologia para ingenieros\n",
      "9 Introduccion a la Ingenieria\n",
      "¿Desea agregar una materia adicional? (S:sí N:No): N\n"
     ]
    },
    {
     "name": "stderr",
     "output_type": "stream",
     "text": [
      "[WDM] - \n",
      "\n",
      "[WDM] - ====== WebDriver manager ======\n",
      "[WDM] - Current google-chrome version is 94.0.4606\n",
      "[WDM] - Get LATEST driver version for 94.0.4606\n",
      "[WDM] - Driver [ChromeDriver/drivers/chromedriver/linux64/94.0.4606.61/chromedriver] found in cache\n",
      "<ipython-input-2-65f44ef45456>:103: DeprecationWarning: use options instead of chrome_options\n",
      "  driver = webdriver.Chrome(executable_path=CHROMEDRIVER_PATH,chrome_options=chrome_options)\n"
     ]
    },
    {
     "name": "stdout",
     "output_type": "stream",
     "text": [
      "\n",
      "\n",
      "Para la asignatura FISICA I\n",
      "\n",
      "\n"
     ]
    },
    {
     "name": "stderr",
     "output_type": "stream",
     "text": [
      "[WDM] - \n",
      "\n",
      "[WDM] - ====== WebDriver manager ======\n",
      "[WDM] - Current google-chrome version is 94.0.4606\n",
      "[WDM] - Get LATEST driver version for 94.0.4606\n",
      "[WDM] - Driver [ChromeDriver/drivers/chromedriver/linux64/94.0.4606.61/chromedriver] found in cache\n",
      "<ipython-input-2-65f44ef45456>:103: DeprecationWarning: use options instead of chrome_options\n",
      "  driver = webdriver.Chrome(executable_path=CHROMEDRIVER_PATH,chrome_options=chrome_options)\n"
     ]
    },
    {
     "name": "stdout",
     "output_type": "stream",
     "text": [
      "\n",
      "\n",
      "Para la asignatura FISICA II\n",
      "\n",
      "\n"
     ]
    },
    {
     "name": "stderr",
     "output_type": "stream",
     "text": [
      "[WDM] - \n",
      "\n",
      "[WDM] - ====== WebDriver manager ======\n",
      "[WDM] - Current google-chrome version is 94.0.4606\n",
      "[WDM] - Get LATEST driver version for 94.0.4606\n",
      "[WDM] - Driver [ChromeDriver/drivers/chromedriver/linux64/94.0.4606.61/chromedriver] found in cache\n",
      "<ipython-input-2-65f44ef45456>:103: DeprecationWarning: use options instead of chrome_options\n",
      "  driver = webdriver.Chrome(executable_path=CHROMEDRIVER_PATH,chrome_options=chrome_options)\n"
     ]
    },
    {
     "name": "stdout",
     "output_type": "stream",
     "text": [
      "\n",
      "\n",
      "Para la asignatura FISICA III\n",
      "\n",
      "\n"
     ]
    },
    {
     "name": "stderr",
     "output_type": "stream",
     "text": [
      "[WDM] - \n",
      "\n",
      "[WDM] - ====== WebDriver manager ======\n",
      "[WDM] - Current google-chrome version is 94.0.4606\n",
      "[WDM] - Get LATEST driver version for 94.0.4606\n",
      "[WDM] - Driver [ChromeDriver/drivers/chromedriver/linux64/94.0.4606.61/chromedriver] found in cache\n",
      "<ipython-input-2-65f44ef45456>:103: DeprecationWarning: use options instead of chrome_options\n",
      "  driver = webdriver.Chrome(executable_path=CHROMEDRIVER_PATH,chrome_options=chrome_options)\n"
     ]
    },
    {
     "name": "stdout",
     "output_type": "stream",
     "text": [
      "\n",
      "\n",
      "Para la asignatura QUIMICA BASICA\n",
      "\n",
      "\n"
     ]
    },
    {
     "name": "stderr",
     "output_type": "stream",
     "text": [
      "[WDM] - \n",
      "\n",
      "[WDM] - ====== WebDriver manager ======\n",
      "[WDM] - Current google-chrome version is 94.0.4606\n",
      "[WDM] - Get LATEST driver version for 94.0.4606\n",
      "[WDM] - Driver [ChromeDriver/drivers/chromedriver/linux64/94.0.4606.61/chromedriver] found in cache\n",
      "<ipython-input-2-65f44ef45456>:103: DeprecationWarning: use options instead of chrome_options\n",
      "  driver = webdriver.Chrome(executable_path=CHROMEDRIVER_PATH,chrome_options=chrome_options)\n"
     ]
    },
    {
     "name": "stdout",
     "output_type": "stream",
     "text": [
      "\n",
      "\n",
      "Para la asignatura QUIMICA I\n",
      "\n",
      "\n"
     ]
    },
    {
     "name": "stderr",
     "output_type": "stream",
     "text": [
      "[WDM] - \n",
      "\n",
      "[WDM] - ====== WebDriver manager ======\n",
      "[WDM] - Current google-chrome version is 94.0.4606\n",
      "[WDM] - Get LATEST driver version for 94.0.4606\n",
      "[WDM] - Driver [ChromeDriver/drivers/chromedriver/linux64/94.0.4606.61/chromedriver] found in cache\n",
      "<ipython-input-2-65f44ef45456>:103: DeprecationWarning: use options instead of chrome_options\n",
      "  driver = webdriver.Chrome(executable_path=CHROMEDRIVER_PATH,chrome_options=chrome_options)\n"
     ]
    },
    {
     "name": "stdout",
     "output_type": "stream",
     "text": [
      "\n",
      "\n",
      "Para la asignatura QUIMICA II\n",
      "\n",
      "\n"
     ]
    },
    {
     "name": "stderr",
     "output_type": "stream",
     "text": [
      "[WDM] - \n",
      "\n",
      "[WDM] - ====== WebDriver manager ======\n",
      "[WDM] - Current google-chrome version is 94.0.4606\n",
      "[WDM] - Get LATEST driver version for 94.0.4606\n",
      "[WDM] - Driver [ChromeDriver/drivers/chromedriver/linux64/94.0.4606.61/chromedriver] found in cache\n",
      "<ipython-input-2-65f44ef45456>:103: DeprecationWarning: use options instead of chrome_options\n",
      "  driver = webdriver.Chrome(executable_path=CHROMEDRIVER_PATH,chrome_options=chrome_options)\n"
     ]
    },
    {
     "name": "stdout",
     "output_type": "stream",
     "text": [
      "\n",
      "\n",
      "Para la asignatura QUIMICA III\n",
      "\n",
      "\n"
     ]
    },
    {
     "name": "stderr",
     "output_type": "stream",
     "text": [
      "[WDM] - \n",
      "\n",
      "[WDM] - ====== WebDriver manager ======\n",
      "[WDM] - Current google-chrome version is 94.0.4606\n",
      "[WDM] - Get LATEST driver version for 94.0.4606\n",
      "[WDM] - Driver [ChromeDriver/drivers/chromedriver/linux64/94.0.4606.61/chromedriver] found in cache\n",
      "<ipython-input-2-65f44ef45456>:103: DeprecationWarning: use options instead of chrome_options\n",
      "  driver = webdriver.Chrome(executable_path=CHROMEDRIVER_PATH,chrome_options=chrome_options)\n"
     ]
    },
    {
     "name": "stdout",
     "output_type": "stream",
     "text": [
      "\n",
      "\n",
      "Para la asignatura BIOLOGIA PARA INGENIEROS\n",
      "\n",
      "\n"
     ]
    },
    {
     "name": "stderr",
     "output_type": "stream",
     "text": [
      "[WDM] - \n",
      "\n",
      "[WDM] - ====== WebDriver manager ======\n",
      "[WDM] - Current google-chrome version is 94.0.4606\n",
      "[WDM] - Get LATEST driver version for 94.0.4606\n",
      "[WDM] - Driver [ChromeDriver/drivers/chromedriver/linux64/94.0.4606.61/chromedriver] found in cache\n",
      "<ipython-input-2-65f44ef45456>:103: DeprecationWarning: use options instead of chrome_options\n",
      "  driver = webdriver.Chrome(executable_path=CHROMEDRIVER_PATH,chrome_options=chrome_options)\n"
     ]
    },
    {
     "name": "stdout",
     "output_type": "stream",
     "text": [
      "\n",
      "\n",
      "Para la asignatura INTRODUCCION A LA INGENIERIA\n",
      "\n",
      "\n",
      "Desea continuar evaluando 1:Sí, 2:No: 2\n"
     ]
    }
   ],
   "source": [
    "if platform.system()=='Linux':\n",
    "\n",
    "    menu_entrada()\n",
    "    #This line is used for enables the current environment(using Popen)\n",
    "    Popen(['conda activate Bots'], stdout=PIPE, bufsize=1, universal_newlines=True) \n",
    "    installingWebDriver_Manager()#For make sure WebDriver is installed\n",
    "    #Declaracion de la url de la pagina principal\n",
    "    sedePrincipalURL='https://www.uis.edu.co/estudiantesWebJ8/pages/externo/consultarAsignaturaProgramadaBarranca.jsf'\n",
    "    #Impresion del mensaje de bienvenida\n",
    "\n",
    "    #Declarando el nombre y llenando la lista principal\n",
    "    mBase=[]\n",
    "    mother=[]\n",
    "    mBase=obtenerListadoMaterias(0)\n",
    "    sede='Sede Barranca'\n",
    "\n",
    "    #Calling to function to get all courses list\n",
    "    mBase=obtenerListadoMaterias(1)\n",
    "    #Converting to upper case all elements from listed courses\n",
    "    for i in range(len(mBase)):\n",
    "        mBase[i]=mBase[i].upper()\n",
    "\n",
    "       \n",
    "    \n",
    "    #This example line is used to create an excel file\n",
    "    #workbook = xlsxwriter.Workbook(CDPath)\n",
    "    #materias=obtenerListadoMaterias(1)\n",
    "    #for i in range(len(materias)):\n",
    "    #    worksheet = workbook.add_worksheet(materias[i])\n",
    "    #workbook.close()\n",
    "    #print('DataFrame is written successfully to Excel Sheet.')\n",
    "    \n",
    "\n",
    "    flag=True\n",
    "    while flag==True:    \n",
    "        for i in range(len(mBase)):\n",
    "            #Comando para crear un driver usando el ejecutable de ChromeDriver y este se retorna \n",
    "            #siendo almacenado en ChromeDriver\n",
    "            ChromeDriver=creacionDriver(sedePrincipalURL)\n",
    "            \n",
    "            #This 2 lines are for printing the course name\n",
    "            print('\\n')\n",
    "            print('Para la asignatura '+mBase[i]+'\\n\\n')\n",
    "            #---------------------------------------------\n",
    "            \n",
    "            explorar(mBase[i],ChromeDriver)\n",
    "            Codigo_asignatura,Nombre_asignatura,Grupo,Capacidad,Matriculados,Schedule=obtenerResultados(ChromeDriver,mBase[i])\n",
    "\n",
    "            #Creates pandas DataFrame.\n",
    "            df1 = pd.DataFrame(list(zip(Codigo_asignatura, Nombre_asignatura,Grupo,Capacidad,Matriculados)),\n",
    "                   columns =['Código asignatura', 'Nombre asignatura', 'Grupo', 'Capacidad', 'Matriculados'])\n",
    "\n",
    "            df2=pd.DataFrame({'Horario':Schedule})\n",
    "\n",
    "            df=pd.merge(\n",
    "                df1,\n",
    "                df2,\n",
    "                how='left',\n",
    "                left_index=True, # Merge on both indexes, since right only has 0...\n",
    "                right_index=True # all the other rows will be NaN\n",
    "            )\n",
    "\n",
    "            #This lines are for printing the whole pandas dataframe on each course. \n",
    "            #df.index = np.arange(1,len(df)+1)#para comenzar el index en 1\n",
    "            #with pd.option_context('display.max_rows', None, 'display.max_columns', None):  # more options \n",
    "                #-->can be specified also\n",
    "            #    print(df)\n",
    "\n",
    "            mother.append(df)\n",
    "            \n",
    "            \n",
    "        tmp=input('Desea continuar evaluando 1:Sí, 2:No: ')\n",
    "        if tmp=='1':\n",
    "            flag=True\n",
    "            ChromeDriver.close()\n",
    "            mBase=obtenerListadoMaterias(0)\n",
    "        else:\n",
    "            flag=False\n",
    "            createsAndSavesFinalProduct(mother,mBase,sede)\n",
    "            ChromeDriver.close()\n",
    "            explorar_finish(ChromeDriver)\n",
    "else: \n",
    "    print(\"Estamos en Windows, nea\")\n"
   ]
  },
  {
   "cell_type": "markdown",
   "metadata": {},
   "source": [
    "## Sede Socorro\n"
   ]
  },
  {
   "cell_type": "code",
   "execution_count": 6,
   "metadata": {},
   "outputs": [
    {
     "name": "stdout",
     "output_type": "stream",
     "text": [
      "       000000   OOOOOO    00000000     0000000000      000000       000000   00000000000 \n",
      "    00000      000  000   000  0000    0000000000      000  000    000  000  00000000000 \n",
      "  0000        000    000  000   000    000             000   00   000    000     000     \n",
      "  000         000    000  000 0000     000             000  00    000    000     000     \n",
      "  000         000    000  000000       000000000       0000000    000    000     000     \n",
      "  000         000    000  000 000      000000000       000   000  000    000     000     \n",
      "  000         000    000  000  000     000             000     00 000    000     000     \n",
      "  0000        000    000  000    000   000             000     00 000    000     000     \n",
      "    00000      000  000   000     000  0000000000      000000000   00    00      000     \n",
      "       000000   000000    000      000 0000000000      0000000      000000       000     \n",
      "By: Julián v.p\n",
      " \n",
      " #################################################################\n",
      " Environment activo: Bots\n",
      "\n",
      " Webdriver-manager module was found at conda list of elements    \n",
      " #################################################################\n",
      "Lista de materias a consultar: \n",
      "\n",
      "\n",
      "1 Fisica I\n",
      "2 Fisica II\n",
      "3 Fisica III\n",
      "4 Quimica Basica\n",
      "5 Quimica I\n",
      "6 Quimica II\n",
      "7 Quimica III\n",
      "8 Biologia para ingenieros\n",
      "9 Introduccion a la Ingenieria\n",
      "¿Desea agregar una materia adicional? (S:sí N:No): N\n"
     ]
    },
    {
     "name": "stderr",
     "output_type": "stream",
     "text": [
      "[WDM] - \n",
      "\n",
      "[WDM] - ====== WebDriver manager ======\n",
      "[WDM] - Current google-chrome version is 94.0.4606\n",
      "[WDM] - Get LATEST driver version for 94.0.4606\n",
      "[WDM] - Driver [ChromeDriver/drivers/chromedriver/linux64/94.0.4606.61/chromedriver] found in cache\n",
      "<ipython-input-2-65f44ef45456>:103: DeprecationWarning: use options instead of chrome_options\n",
      "  driver = webdriver.Chrome(executable_path=CHROMEDRIVER_PATH,chrome_options=chrome_options)\n"
     ]
    },
    {
     "name": "stdout",
     "output_type": "stream",
     "text": [
      "\n",
      "\n",
      "Para la asignatura FISICA I\n",
      "\n",
      "\n"
     ]
    },
    {
     "name": "stderr",
     "output_type": "stream",
     "text": [
      "[WDM] - \n",
      "\n",
      "[WDM] - ====== WebDriver manager ======\n",
      "[WDM] - Current google-chrome version is 94.0.4606\n",
      "[WDM] - Get LATEST driver version for 94.0.4606\n",
      "[WDM] - Driver [ChromeDriver/drivers/chromedriver/linux64/94.0.4606.61/chromedriver] found in cache\n",
      "<ipython-input-2-65f44ef45456>:103: DeprecationWarning: use options instead of chrome_options\n",
      "  driver = webdriver.Chrome(executable_path=CHROMEDRIVER_PATH,chrome_options=chrome_options)\n"
     ]
    },
    {
     "name": "stdout",
     "output_type": "stream",
     "text": [
      "\n",
      "\n",
      "Para la asignatura FISICA II\n",
      "\n",
      "\n"
     ]
    },
    {
     "name": "stderr",
     "output_type": "stream",
     "text": [
      "[WDM] - \n",
      "\n",
      "[WDM] - ====== WebDriver manager ======\n",
      "[WDM] - Current google-chrome version is 94.0.4606\n",
      "[WDM] - Get LATEST driver version for 94.0.4606\n",
      "[WDM] - Driver [ChromeDriver/drivers/chromedriver/linux64/94.0.4606.61/chromedriver] found in cache\n",
      "<ipython-input-2-65f44ef45456>:103: DeprecationWarning: use options instead of chrome_options\n",
      "  driver = webdriver.Chrome(executable_path=CHROMEDRIVER_PATH,chrome_options=chrome_options)\n"
     ]
    },
    {
     "name": "stdout",
     "output_type": "stream",
     "text": [
      "\n",
      "\n",
      "Para la asignatura FISICA III\n",
      "\n",
      "\n"
     ]
    },
    {
     "name": "stderr",
     "output_type": "stream",
     "text": [
      "[WDM] - \n",
      "\n",
      "[WDM] - ====== WebDriver manager ======\n",
      "[WDM] - Current google-chrome version is 94.0.4606\n",
      "[WDM] - Get LATEST driver version for 94.0.4606\n",
      "[WDM] - Driver [ChromeDriver/drivers/chromedriver/linux64/94.0.4606.61/chromedriver] found in cache\n",
      "<ipython-input-2-65f44ef45456>:103: DeprecationWarning: use options instead of chrome_options\n",
      "  driver = webdriver.Chrome(executable_path=CHROMEDRIVER_PATH,chrome_options=chrome_options)\n"
     ]
    },
    {
     "name": "stdout",
     "output_type": "stream",
     "text": [
      "\n",
      "\n",
      "Para la asignatura QUIMICA BASICA\n",
      "\n",
      "\n"
     ]
    },
    {
     "name": "stderr",
     "output_type": "stream",
     "text": [
      "[WDM] - \n",
      "\n",
      "[WDM] - ====== WebDriver manager ======\n",
      "[WDM] - Current google-chrome version is 94.0.4606\n",
      "[WDM] - Get LATEST driver version for 94.0.4606\n",
      "[WDM] - Driver [ChromeDriver/drivers/chromedriver/linux64/94.0.4606.61/chromedriver] found in cache\n",
      "<ipython-input-2-65f44ef45456>:103: DeprecationWarning: use options instead of chrome_options\n",
      "  driver = webdriver.Chrome(executable_path=CHROMEDRIVER_PATH,chrome_options=chrome_options)\n"
     ]
    },
    {
     "name": "stdout",
     "output_type": "stream",
     "text": [
      "\n",
      "\n",
      "Para la asignatura QUIMICA I\n",
      "\n",
      "\n"
     ]
    },
    {
     "name": "stderr",
     "output_type": "stream",
     "text": [
      "[WDM] - \n",
      "\n",
      "[WDM] - ====== WebDriver manager ======\n",
      "[WDM] - Current google-chrome version is 94.0.4606\n",
      "[WDM] - Get LATEST driver version for 94.0.4606\n",
      "[WDM] - Driver [ChromeDriver/drivers/chromedriver/linux64/94.0.4606.61/chromedriver] found in cache\n",
      "<ipython-input-2-65f44ef45456>:103: DeprecationWarning: use options instead of chrome_options\n",
      "  driver = webdriver.Chrome(executable_path=CHROMEDRIVER_PATH,chrome_options=chrome_options)\n"
     ]
    },
    {
     "name": "stdout",
     "output_type": "stream",
     "text": [
      "\n",
      "\n",
      "Para la asignatura QUIMICA II\n",
      "\n",
      "\n"
     ]
    },
    {
     "name": "stderr",
     "output_type": "stream",
     "text": [
      "[WDM] - \n",
      "\n",
      "[WDM] - ====== WebDriver manager ======\n",
      "[WDM] - Current google-chrome version is 94.0.4606\n",
      "[WDM] - Get LATEST driver version for 94.0.4606\n",
      "[WDM] - Driver [ChromeDriver/drivers/chromedriver/linux64/94.0.4606.61/chromedriver] found in cache\n",
      "<ipython-input-2-65f44ef45456>:103: DeprecationWarning: use options instead of chrome_options\n",
      "  driver = webdriver.Chrome(executable_path=CHROMEDRIVER_PATH,chrome_options=chrome_options)\n"
     ]
    },
    {
     "name": "stdout",
     "output_type": "stream",
     "text": [
      "\n",
      "\n",
      "Para la asignatura QUIMICA III\n",
      "\n",
      "\n"
     ]
    },
    {
     "name": "stderr",
     "output_type": "stream",
     "text": [
      "[WDM] - \n",
      "\n",
      "[WDM] - ====== WebDriver manager ======\n",
      "[WDM] - Current google-chrome version is 94.0.4606\n",
      "[WDM] - Get LATEST driver version for 94.0.4606\n",
      "[WDM] - Driver [ChromeDriver/drivers/chromedriver/linux64/94.0.4606.61/chromedriver] found in cache\n",
      "<ipython-input-2-65f44ef45456>:103: DeprecationWarning: use options instead of chrome_options\n",
      "  driver = webdriver.Chrome(executable_path=CHROMEDRIVER_PATH,chrome_options=chrome_options)\n"
     ]
    },
    {
     "name": "stdout",
     "output_type": "stream",
     "text": [
      "\n",
      "\n",
      "Para la asignatura BIOLOGIA PARA INGENIEROS\n",
      "\n",
      "\n"
     ]
    },
    {
     "name": "stderr",
     "output_type": "stream",
     "text": [
      "[WDM] - \n",
      "\n",
      "[WDM] - ====== WebDriver manager ======\n",
      "[WDM] - Current google-chrome version is 94.0.4606\n",
      "[WDM] - Get LATEST driver version for 94.0.4606\n",
      "[WDM] - Driver [ChromeDriver/drivers/chromedriver/linux64/94.0.4606.61/chromedriver] found in cache\n",
      "<ipython-input-2-65f44ef45456>:103: DeprecationWarning: use options instead of chrome_options\n",
      "  driver = webdriver.Chrome(executable_path=CHROMEDRIVER_PATH,chrome_options=chrome_options)\n"
     ]
    },
    {
     "name": "stdout",
     "output_type": "stream",
     "text": [
      "\n",
      "\n",
      "Para la asignatura INTRODUCCION A LA INGENIERIA\n",
      "\n",
      "\n",
      "Desea continuar evaluando 1:Sí, 2:No: 2\n"
     ]
    }
   ],
   "source": [
    "if platform.system()=='Linux':\n",
    "\n",
    "    menu_entrada()\n",
    "    #This line is used for enables the current environment(using Popen)\n",
    "    Popen(['conda', 'activate Bots'], stdout=PIPE, bufsize=1, universal_newlines=True) \n",
    "    installingWebDriver_Manager()#For make sure WebDriver is installed\n",
    "    #Declaracion de la url de la pagina principal\n",
    "    sedePrincipalURL='https://www.uis.edu.co/estudiantesWebJ8/pages/externo/consultarAsignaturaProgramadaSocorro.jsf'\n",
    "    #Impresion del mensaje de bienvenida\n",
    "\n",
    "    #Declarando el nombre y llenando la lista principal\n",
    "    mBase=[]\n",
    "    mother=[]\n",
    "    mBase=obtenerListadoMaterias(0)\n",
    "    sede='Sede Socorro'\n",
    "\n",
    "    #Calling to function to get all courses list\n",
    "    mBase=obtenerListadoMaterias(1)\n",
    "    #Converting to upper case all elements from listed courses\n",
    "    for i in range(len(mBase)):\n",
    "        mBase[i]=mBase[i].upper()\n",
    "\n",
    "       \n",
    "    \n",
    "    #This example line is used to create an excel file\n",
    "    #workbook = xlsxwriter.Workbook(CDPath)\n",
    "    #materias=obtenerListadoMaterias(1)\n",
    "    #for i in range(len(materias)):\n",
    "    #    worksheet = workbook.add_worksheet(materias[i])\n",
    "    #workbook.close()\n",
    "    #print('DataFrame is written successfully to Excel Sheet.')\n",
    "    \n",
    "\n",
    "    flag=True\n",
    "    while flag==True:    \n",
    "        for i in range(len(mBase)):\n",
    "            #Comando para crear un driver usando el ejecutable de ChromeDriver y este se retorna \n",
    "            #siendo almacenado en ChromeDriver\n",
    "            ChromeDriver=creacionDriver(sedePrincipalURL)\n",
    "            \n",
    "            #This 2 lines are for printing the course name\n",
    "            print('\\n')\n",
    "            print('Para la asignatura '+mBase[i]+'\\n\\n')\n",
    "            #---------------------------------------------\n",
    "            \n",
    "            explorar(mBase[i],ChromeDriver)\n",
    "            Codigo_asignatura,Nombre_asignatura,Grupo,Capacidad,Matriculados,Schedule=obtenerResultados(ChromeDriver,mBase[i])\n",
    "\n",
    "            #Creates pandas DataFrame.\n",
    "            df1 = pd.DataFrame(list(zip(Codigo_asignatura, Nombre_asignatura,Grupo,Capacidad,Matriculados)),\n",
    "                   columns =['Código asignatura', 'Nombre asignatura', 'Grupo', 'Capacidad', 'Matriculados'])\n",
    "\n",
    "            df2=pd.DataFrame({'Horario':Schedule})\n",
    "\n",
    "            \n",
    "            df=pd.merge(\n",
    "                df1,\n",
    "                df2,\n",
    "                how='left',\n",
    "                left_index=True, # Merge on both indexes, since right only has 0...\n",
    "                right_index=True # all the other rows will be NaN\n",
    "            )\n",
    "\n",
    "            #This lines are for printing the whole pandas dataframe on each course. \n",
    "            #df.index = np.arange(1,len(df)+1)#para comenzar el index en 1\n",
    "            #with pd.option_context('display.max_rows', None, 'display.max_columns', None):  # more options \n",
    "                #-->can be specified also\n",
    "            #    print(df)\n",
    "\n",
    "            mother.append(df)\n",
    "            \n",
    "            \n",
    "        tmp=input('Desea continuar evaluando 1:Sí, 2:No: ')\n",
    "        if tmp=='1':\n",
    "            flag=True\n",
    "            ChromeDriver.close()\n",
    "            mBase=obtenerListadoMaterias(0)\n",
    "        else:\n",
    "            flag=False\n",
    "            createsAndSavesFinalProduct(mother,mBase,sede)\n",
    "            ChromeDriver.close()\n",
    "            explorar_finish(ChromeDriver)\n",
    "else: \n",
    "    print(\"Estamos en Windows, nea\")"
   ]
  },
  {
   "cell_type": "markdown",
   "metadata": {},
   "source": [
    "## Sede Malaga\n"
   ]
  },
  {
   "cell_type": "code",
   "execution_count": 7,
   "metadata": {},
   "outputs": [
    {
     "name": "stdout",
     "output_type": "stream",
     "text": [
      "       000000   OOOOOO    00000000     0000000000      000000       000000   00000000000 \n",
      "    00000      000  000   000  0000    0000000000      000  000    000  000  00000000000 \n",
      "  0000        000    000  000   000    000             000   00   000    000     000     \n",
      "  000         000    000  000 0000     000             000  00    000    000     000     \n",
      "  000         000    000  000000       000000000       0000000    000    000     000     \n",
      "  000         000    000  000 000      000000000       000   000  000    000     000     \n",
      "  000         000    000  000  000     000             000     00 000    000     000     \n",
      "  0000        000    000  000    000   000             000     00 000    000     000     \n",
      "    00000      000  000   000     000  0000000000      000000000   00    00      000     \n",
      "       000000   000000    000      000 0000000000      0000000      000000       000     \n",
      "By: Julián v.p\n",
      " \n",
      " #################################################################\n",
      " Environment activo: Bots\n",
      "\n",
      " Webdriver-manager module was found at conda list of elements    \n",
      " #################################################################\n",
      "Lista de materias a consultar: \n",
      "\n",
      "\n",
      "1 Fisica I\n",
      "2 Fisica II\n",
      "3 Fisica III\n",
      "4 Quimica Basica\n",
      "5 Quimica I\n",
      "6 Quimica II\n",
      "7 Quimica III\n",
      "8 Biologia para ingenieros\n",
      "9 Introduccion a la Ingenieria\n",
      "¿Desea agregar una materia adicional? (S:sí N:No): N\n"
     ]
    },
    {
     "name": "stderr",
     "output_type": "stream",
     "text": [
      "[WDM] - \n",
      "\n",
      "[WDM] - ====== WebDriver manager ======\n",
      "[WDM] - Current google-chrome version is 94.0.4606\n",
      "[WDM] - Get LATEST driver version for 94.0.4606\n",
      "[WDM] - Driver [ChromeDriver/drivers/chromedriver/linux64/94.0.4606.61/chromedriver] found in cache\n",
      "<ipython-input-2-65f44ef45456>:103: DeprecationWarning: use options instead of chrome_options\n",
      "  driver = webdriver.Chrome(executable_path=CHROMEDRIVER_PATH,chrome_options=chrome_options)\n"
     ]
    },
    {
     "name": "stdout",
     "output_type": "stream",
     "text": [
      "\n",
      "\n",
      "Para la asignatura FISICA I\n",
      "\n",
      "\n"
     ]
    },
    {
     "name": "stderr",
     "output_type": "stream",
     "text": [
      "[WDM] - \n",
      "\n",
      "[WDM] - ====== WebDriver manager ======\n",
      "[WDM] - Current google-chrome version is 94.0.4606\n",
      "[WDM] - Get LATEST driver version for 94.0.4606\n",
      "[WDM] - Driver [ChromeDriver/drivers/chromedriver/linux64/94.0.4606.61/chromedriver] found in cache\n",
      "<ipython-input-2-65f44ef45456>:103: DeprecationWarning: use options instead of chrome_options\n",
      "  driver = webdriver.Chrome(executable_path=CHROMEDRIVER_PATH,chrome_options=chrome_options)\n"
     ]
    },
    {
     "name": "stdout",
     "output_type": "stream",
     "text": [
      "\n",
      "\n",
      "Para la asignatura FISICA II\n",
      "\n",
      "\n"
     ]
    },
    {
     "name": "stderr",
     "output_type": "stream",
     "text": [
      "[WDM] - \n",
      "\n",
      "[WDM] - ====== WebDriver manager ======\n",
      "[WDM] - Current google-chrome version is 94.0.4606\n",
      "[WDM] - Get LATEST driver version for 94.0.4606\n",
      "[WDM] - Driver [ChromeDriver/drivers/chromedriver/linux64/94.0.4606.61/chromedriver] found in cache\n",
      "<ipython-input-2-65f44ef45456>:103: DeprecationWarning: use options instead of chrome_options\n",
      "  driver = webdriver.Chrome(executable_path=CHROMEDRIVER_PATH,chrome_options=chrome_options)\n"
     ]
    },
    {
     "name": "stdout",
     "output_type": "stream",
     "text": [
      "\n",
      "\n",
      "Para la asignatura FISICA III\n",
      "\n",
      "\n"
     ]
    },
    {
     "name": "stderr",
     "output_type": "stream",
     "text": [
      "[WDM] - \n",
      "\n",
      "[WDM] - ====== WebDriver manager ======\n",
      "[WDM] - Current google-chrome version is 94.0.4606\n",
      "[WDM] - Get LATEST driver version for 94.0.4606\n",
      "[WDM] - Driver [ChromeDriver/drivers/chromedriver/linux64/94.0.4606.61/chromedriver] found in cache\n",
      "<ipython-input-2-65f44ef45456>:103: DeprecationWarning: use options instead of chrome_options\n",
      "  driver = webdriver.Chrome(executable_path=CHROMEDRIVER_PATH,chrome_options=chrome_options)\n"
     ]
    },
    {
     "name": "stdout",
     "output_type": "stream",
     "text": [
      "\n",
      "\n",
      "Para la asignatura QUIMICA BASICA\n",
      "\n",
      "\n"
     ]
    },
    {
     "name": "stderr",
     "output_type": "stream",
     "text": [
      "[WDM] - \n",
      "\n",
      "[WDM] - ====== WebDriver manager ======\n",
      "[WDM] - Current google-chrome version is 94.0.4606\n",
      "[WDM] - Get LATEST driver version for 94.0.4606\n",
      "[WDM] - Driver [ChromeDriver/drivers/chromedriver/linux64/94.0.4606.61/chromedriver] found in cache\n",
      "<ipython-input-2-65f44ef45456>:103: DeprecationWarning: use options instead of chrome_options\n",
      "  driver = webdriver.Chrome(executable_path=CHROMEDRIVER_PATH,chrome_options=chrome_options)\n"
     ]
    },
    {
     "name": "stdout",
     "output_type": "stream",
     "text": [
      "\n",
      "\n",
      "Para la asignatura QUIMICA I\n",
      "\n",
      "\n"
     ]
    },
    {
     "name": "stderr",
     "output_type": "stream",
     "text": [
      "[WDM] - \n",
      "\n",
      "[WDM] - ====== WebDriver manager ======\n",
      "[WDM] - Current google-chrome version is 94.0.4606\n",
      "[WDM] - Get LATEST driver version for 94.0.4606\n",
      "[WDM] - Driver [ChromeDriver/drivers/chromedriver/linux64/94.0.4606.61/chromedriver] found in cache\n",
      "<ipython-input-2-65f44ef45456>:103: DeprecationWarning: use options instead of chrome_options\n",
      "  driver = webdriver.Chrome(executable_path=CHROMEDRIVER_PATH,chrome_options=chrome_options)\n"
     ]
    },
    {
     "name": "stdout",
     "output_type": "stream",
     "text": [
      "\n",
      "\n",
      "Para la asignatura QUIMICA II\n",
      "\n",
      "\n"
     ]
    },
    {
     "name": "stderr",
     "output_type": "stream",
     "text": [
      "[WDM] - \n",
      "\n",
      "[WDM] - ====== WebDriver manager ======\n",
      "[WDM] - Current google-chrome version is 94.0.4606\n",
      "[WDM] - Get LATEST driver version for 94.0.4606\n",
      "[WDM] - Driver [ChromeDriver/drivers/chromedriver/linux64/94.0.4606.61/chromedriver] found in cache\n",
      "<ipython-input-2-65f44ef45456>:103: DeprecationWarning: use options instead of chrome_options\n",
      "  driver = webdriver.Chrome(executable_path=CHROMEDRIVER_PATH,chrome_options=chrome_options)\n"
     ]
    },
    {
     "name": "stdout",
     "output_type": "stream",
     "text": [
      "\n",
      "\n",
      "Para la asignatura QUIMICA III\n",
      "\n",
      "\n"
     ]
    },
    {
     "name": "stderr",
     "output_type": "stream",
     "text": [
      "[WDM] - \n",
      "\n",
      "[WDM] - ====== WebDriver manager ======\n",
      "[WDM] - Current google-chrome version is 94.0.4606\n",
      "[WDM] - Get LATEST driver version for 94.0.4606\n",
      "[WDM] - Driver [ChromeDriver/drivers/chromedriver/linux64/94.0.4606.61/chromedriver] found in cache\n",
      "<ipython-input-2-65f44ef45456>:103: DeprecationWarning: use options instead of chrome_options\n",
      "  driver = webdriver.Chrome(executable_path=CHROMEDRIVER_PATH,chrome_options=chrome_options)\n"
     ]
    },
    {
     "name": "stdout",
     "output_type": "stream",
     "text": [
      "\n",
      "\n",
      "Para la asignatura BIOLOGIA PARA INGENIEROS\n",
      "\n",
      "\n"
     ]
    },
    {
     "name": "stderr",
     "output_type": "stream",
     "text": [
      "[WDM] - \n",
      "\n",
      "[WDM] - ====== WebDriver manager ======\n",
      "[WDM] - Current google-chrome version is 94.0.4606\n",
      "[WDM] - Get LATEST driver version for 94.0.4606\n",
      "[WDM] - Driver [ChromeDriver/drivers/chromedriver/linux64/94.0.4606.61/chromedriver] found in cache\n",
      "<ipython-input-2-65f44ef45456>:103: DeprecationWarning: use options instead of chrome_options\n",
      "  driver = webdriver.Chrome(executable_path=CHROMEDRIVER_PATH,chrome_options=chrome_options)\n"
     ]
    },
    {
     "name": "stdout",
     "output_type": "stream",
     "text": [
      "\n",
      "\n",
      "Para la asignatura INTRODUCCION A LA INGENIERIA\n",
      "\n",
      "\n",
      "Desea continuar evaluando 1:Sí, 2:No: 2\n"
     ]
    }
   ],
   "source": [
    "if platform.system()=='Linux':\n",
    "\n",
    "    menu_entrada()\n",
    "    #This line is used for enables the current environment(using Popen)\n",
    "    Popen(['conda', 'activate Bots'], stdout=PIPE, bufsize=1, universal_newlines=True) \n",
    "    installingWebDriver_Manager()#For make sure WebDriver is installed\n",
    "    #Declaracion de la url de la pagina principal\n",
    "    sedePrincipalURL='https://www.uis.edu.co/estudiantesWebJ8/pages/externo/consultarAsignaturaProgramadaMalaga.jsf'\n",
    "    #Impresion del mensaje de bienvenida\n",
    "\n",
    "    #Declarando el nombre y llenando la lista principal\n",
    "    mBase=[]\n",
    "    mother=[]\n",
    "    mBase=obtenerListadoMaterias(0)\n",
    "    sede='Sede Malaga'\n",
    "\n",
    "    #Calling to function to get all courses list\n",
    "    mBase=obtenerListadoMaterias(1)\n",
    "    #Converting to upper case all elements from listed courses\n",
    "    for i in range(len(mBase)):\n",
    "        mBase[i]=mBase[i].upper()\n",
    "\n",
    "       \n",
    "    \n",
    "    #This example line is used to create an excel file\n",
    "    #workbook = xlsxwriter.Workbook(CDPath)\n",
    "    #materias=obtenerListadoMaterias(1)\n",
    "    #for i in range(len(materias)):\n",
    "    #    worksheet = workbook.add_worksheet(materias[i])\n",
    "    #workbook.close()\n",
    "    #print('DataFrame is written successfully to Excel Sheet.')\n",
    "    \n",
    "\n",
    "    flag=True\n",
    "    while flag==True:    \n",
    "        for i in range(len(mBase)):\n",
    "            #Comando para crear un driver usando el ejecutable de ChromeDriver y este se retorna \n",
    "            #siendo almacenado en ChromeDriver\n",
    "            ChromeDriver=creacionDriver(sedePrincipalURL)\n",
    "            \n",
    "            #This 2 lines are for printing the course name\n",
    "            print('\\n')\n",
    "            print('Para la asignatura '+mBase[i]+'\\n\\n')\n",
    "            #---------------------------------------------\n",
    "            \n",
    "            explorar(mBase[i],ChromeDriver)\n",
    "            Codigo_asignatura,Nombre_asignatura,Grupo,Capacidad,Matriculados,Schedule=obtenerResultados(ChromeDriver,mBase[i])\n",
    "\n",
    "            #Creates pandas DataFrame.\n",
    "            df1 = pd.DataFrame(list(zip(Codigo_asignatura, Nombre_asignatura,Grupo,Capacidad,Matriculados)),\n",
    "                   columns =['Código asignatura', 'Nombre asignatura', 'Grupo', 'Capacidad', 'Matriculados'])\n",
    "\n",
    "            df2=pd.DataFrame({'Horario':Schedule})\n",
    "\n",
    "            \n",
    "            df=pd.merge(\n",
    "                df1,\n",
    "                df2,\n",
    "                how='left',\n",
    "                left_index=True, # Merge on both indexes, since right only has 0...\n",
    "                right_index=True # all the other rows will be NaN\n",
    "            )\n",
    "\n",
    "            #This lines are for printing the whole pandas dataframe on each course. \n",
    "            #df.index = np.arange(1,len(df)+1)#para comenzar el index en 1\n",
    "            #with pd.option_context('display.max_rows', None, 'display.max_columns', None):  # more options \n",
    "                #-->can be specified also\n",
    "            #    print(df)\n",
    "\n",
    "            mother.append(df)\n",
    "            \n",
    "            \n",
    "        tmp=input('Desea continuar evaluando 1:Sí, 2:No: ')\n",
    "        if tmp=='1':\n",
    "            flag=True\n",
    "            ChromeDriver.close()\n",
    "            mBase=obtenerListadoMaterias(0)\n",
    "        else:\n",
    "            flag=False\n",
    "            createsAndSavesFinalProduct(mother,mBase,sede)\n",
    "            ChromeDriver.close()\n",
    "            explorar_finish(ChromeDriver)\n",
    "else: \n",
    "    print(\"Estamos en Windows, nea\")"
   ]
  },
  {
   "cell_type": "markdown",
   "metadata": {},
   "source": [
    "## Sede Barbosa\n"
   ]
  },
  {
   "cell_type": "code",
   "execution_count": 8,
   "metadata": {},
   "outputs": [
    {
     "name": "stdout",
     "output_type": "stream",
     "text": [
      "       000000   OOOOOO    00000000     0000000000      000000       000000   00000000000 \n",
      "    00000      000  000   000  0000    0000000000      000  000    000  000  00000000000 \n",
      "  0000        000    000  000   000    000             000   00   000    000     000     \n",
      "  000         000    000  000 0000     000             000  00    000    000     000     \n",
      "  000         000    000  000000       000000000       0000000    000    000     000     \n",
      "  000         000    000  000 000      000000000       000   000  000    000     000     \n",
      "  000         000    000  000  000     000             000     00 000    000     000     \n",
      "  0000        000    000  000    000   000             000     00 000    000     000     \n",
      "    00000      000  000   000     000  0000000000      000000000   00    00      000     \n",
      "       000000   000000    000      000 0000000000      0000000      000000       000     \n",
      "By: Julián v.p\n",
      " \n",
      " #################################################################\n",
      " Environment activo: Bots\n",
      "\n",
      " Webdriver-manager module was found at conda list of elements    \n",
      " #################################################################\n",
      "Lista de materias a consultar: \n",
      "\n",
      "\n",
      "1 Fisica I\n",
      "2 Fisica II\n",
      "3 Fisica III\n",
      "4 Quimica Basica\n",
      "5 Quimica I\n",
      "6 Quimica II\n",
      "7 Quimica III\n",
      "8 Biologia para ingenieros\n",
      "9 Introduccion a la Ingenieria\n",
      "¿Desea agregar una materia adicional? (S:sí N:No): N\n"
     ]
    },
    {
     "name": "stderr",
     "output_type": "stream",
     "text": [
      "[WDM] - \n",
      "\n",
      "[WDM] - ====== WebDriver manager ======\n",
      "[WDM] - Current google-chrome version is 94.0.4606\n",
      "[WDM] - Get LATEST driver version for 94.0.4606\n",
      "[WDM] - Driver [ChromeDriver/drivers/chromedriver/linux64/94.0.4606.61/chromedriver] found in cache\n",
      "<ipython-input-2-65f44ef45456>:103: DeprecationWarning: use options instead of chrome_options\n",
      "  driver = webdriver.Chrome(executable_path=CHROMEDRIVER_PATH,chrome_options=chrome_options)\n"
     ]
    },
    {
     "name": "stdout",
     "output_type": "stream",
     "text": [
      "\n",
      "\n",
      "Para la asignatura FISICA I\n",
      "\n",
      "\n"
     ]
    },
    {
     "name": "stderr",
     "output_type": "stream",
     "text": [
      "[WDM] - \n",
      "\n",
      "[WDM] - ====== WebDriver manager ======\n",
      "[WDM] - Current google-chrome version is 94.0.4606\n",
      "[WDM] - Get LATEST driver version for 94.0.4606\n",
      "[WDM] - Driver [ChromeDriver/drivers/chromedriver/linux64/94.0.4606.61/chromedriver] found in cache\n",
      "<ipython-input-2-65f44ef45456>:103: DeprecationWarning: use options instead of chrome_options\n",
      "  driver = webdriver.Chrome(executable_path=CHROMEDRIVER_PATH,chrome_options=chrome_options)\n"
     ]
    },
    {
     "name": "stdout",
     "output_type": "stream",
     "text": [
      "\n",
      "\n",
      "Para la asignatura FISICA II\n",
      "\n",
      "\n"
     ]
    },
    {
     "name": "stderr",
     "output_type": "stream",
     "text": [
      "[WDM] - \n",
      "\n",
      "[WDM] - ====== WebDriver manager ======\n",
      "[WDM] - Current google-chrome version is 94.0.4606\n",
      "[WDM] - Get LATEST driver version for 94.0.4606\n",
      "[WDM] - Driver [ChromeDriver/drivers/chromedriver/linux64/94.0.4606.61/chromedriver] found in cache\n",
      "<ipython-input-2-65f44ef45456>:103: DeprecationWarning: use options instead of chrome_options\n",
      "  driver = webdriver.Chrome(executable_path=CHROMEDRIVER_PATH,chrome_options=chrome_options)\n"
     ]
    },
    {
     "name": "stdout",
     "output_type": "stream",
     "text": [
      "\n",
      "\n",
      "Para la asignatura FISICA III\n",
      "\n",
      "\n"
     ]
    },
    {
     "name": "stderr",
     "output_type": "stream",
     "text": [
      "[WDM] - \n",
      "\n",
      "[WDM] - ====== WebDriver manager ======\n",
      "[WDM] - Current google-chrome version is 94.0.4606\n",
      "[WDM] - Get LATEST driver version for 94.0.4606\n",
      "[WDM] - Driver [ChromeDriver/drivers/chromedriver/linux64/94.0.4606.61/chromedriver] found in cache\n",
      "<ipython-input-2-65f44ef45456>:103: DeprecationWarning: use options instead of chrome_options\n",
      "  driver = webdriver.Chrome(executable_path=CHROMEDRIVER_PATH,chrome_options=chrome_options)\n"
     ]
    },
    {
     "name": "stdout",
     "output_type": "stream",
     "text": [
      "\n",
      "\n",
      "Para la asignatura QUIMICA BASICA\n",
      "\n",
      "\n"
     ]
    },
    {
     "name": "stderr",
     "output_type": "stream",
     "text": [
      "[WDM] - \n",
      "\n",
      "[WDM] - ====== WebDriver manager ======\n",
      "[WDM] - Current google-chrome version is 94.0.4606\n",
      "[WDM] - Get LATEST driver version for 94.0.4606\n",
      "[WDM] - Driver [ChromeDriver/drivers/chromedriver/linux64/94.0.4606.61/chromedriver] found in cache\n",
      "<ipython-input-2-65f44ef45456>:103: DeprecationWarning: use options instead of chrome_options\n",
      "  driver = webdriver.Chrome(executable_path=CHROMEDRIVER_PATH,chrome_options=chrome_options)\n"
     ]
    },
    {
     "name": "stdout",
     "output_type": "stream",
     "text": [
      "\n",
      "\n",
      "Para la asignatura QUIMICA I\n",
      "\n",
      "\n"
     ]
    },
    {
     "name": "stderr",
     "output_type": "stream",
     "text": [
      "[WDM] - \n",
      "\n",
      "[WDM] - ====== WebDriver manager ======\n",
      "[WDM] - Current google-chrome version is 94.0.4606\n",
      "[WDM] - Get LATEST driver version for 94.0.4606\n",
      "[WDM] - Driver [ChromeDriver/drivers/chromedriver/linux64/94.0.4606.61/chromedriver] found in cache\n",
      "<ipython-input-2-65f44ef45456>:103: DeprecationWarning: use options instead of chrome_options\n",
      "  driver = webdriver.Chrome(executable_path=CHROMEDRIVER_PATH,chrome_options=chrome_options)\n"
     ]
    },
    {
     "name": "stdout",
     "output_type": "stream",
     "text": [
      "\n",
      "\n",
      "Para la asignatura QUIMICA II\n",
      "\n",
      "\n"
     ]
    },
    {
     "name": "stderr",
     "output_type": "stream",
     "text": [
      "[WDM] - \n",
      "\n",
      "[WDM] - ====== WebDriver manager ======\n",
      "[WDM] - Current google-chrome version is 94.0.4606\n",
      "[WDM] - Get LATEST driver version for 94.0.4606\n",
      "[WDM] - Driver [ChromeDriver/drivers/chromedriver/linux64/94.0.4606.61/chromedriver] found in cache\n",
      "<ipython-input-2-65f44ef45456>:103: DeprecationWarning: use options instead of chrome_options\n",
      "  driver = webdriver.Chrome(executable_path=CHROMEDRIVER_PATH,chrome_options=chrome_options)\n"
     ]
    },
    {
     "name": "stdout",
     "output_type": "stream",
     "text": [
      "\n",
      "\n",
      "Para la asignatura QUIMICA III\n",
      "\n",
      "\n"
     ]
    },
    {
     "name": "stderr",
     "output_type": "stream",
     "text": [
      "[WDM] - \n",
      "\n",
      "[WDM] - ====== WebDriver manager ======\n",
      "[WDM] - Current google-chrome version is 94.0.4606\n",
      "[WDM] - Get LATEST driver version for 94.0.4606\n",
      "[WDM] - Driver [ChromeDriver/drivers/chromedriver/linux64/94.0.4606.61/chromedriver] found in cache\n",
      "<ipython-input-2-65f44ef45456>:103: DeprecationWarning: use options instead of chrome_options\n",
      "  driver = webdriver.Chrome(executable_path=CHROMEDRIVER_PATH,chrome_options=chrome_options)\n"
     ]
    },
    {
     "name": "stdout",
     "output_type": "stream",
     "text": [
      "\n",
      "\n",
      "Para la asignatura BIOLOGIA PARA INGENIEROS\n",
      "\n",
      "\n"
     ]
    },
    {
     "name": "stderr",
     "output_type": "stream",
     "text": [
      "[WDM] - \n",
      "\n",
      "[WDM] - ====== WebDriver manager ======\n",
      "[WDM] - Current google-chrome version is 94.0.4606\n",
      "[WDM] - Get LATEST driver version for 94.0.4606\n",
      "[WDM] - Driver [ChromeDriver/drivers/chromedriver/linux64/94.0.4606.61/chromedriver] found in cache\n",
      "<ipython-input-2-65f44ef45456>:103: DeprecationWarning: use options instead of chrome_options\n",
      "  driver = webdriver.Chrome(executable_path=CHROMEDRIVER_PATH,chrome_options=chrome_options)\n"
     ]
    },
    {
     "name": "stdout",
     "output_type": "stream",
     "text": [
      "\n",
      "\n",
      "Para la asignatura INTRODUCCION A LA INGENIERIA\n",
      "\n",
      "\n",
      "Desea continuar evaluando 1:Sí, 2:No: 2\n"
     ]
    }
   ],
   "source": [
    "if platform.system()=='Linux':\n",
    "\n",
    "    menu_entrada()\n",
    "    #This line is used for enables the current environment(using Popen)\n",
    "    Popen(['conda', 'activate Bots'], stdout=PIPE, bufsize=1, universal_newlines=True) \n",
    "    installingWebDriver_Manager()#For make sure WebDriver is installed\n",
    "    #Declaracion de la url de la pagina principal\n",
    "    sedePrincipalURL='https://www.uis.edu.co/estudiantesWebJ8/pages/externo/consultarAsignaturaProgramadaBarbosa.jsf'\n",
    "\n",
    "    #Impresion del mensaje de bienvenida\n",
    "\n",
    "    #Declarando el nombre y llenando la lista principal\n",
    "    mBase=[]\n",
    "    mother=[]\n",
    "    mBase=obtenerListadoMaterias(0)\n",
    "    sede='Sede Barbosa'\n",
    "\n",
    "    #Calling to function to get all courses list\n",
    "    mBase=obtenerListadoMaterias(1)\n",
    "    #Converting to upper case all elements from listed courses\n",
    "    for i in range(len(mBase)):\n",
    "        mBase[i]=mBase[i].upper()\n",
    "\n",
    "       \n",
    "    \n",
    "    #This example line is used to create an excel file\n",
    "    #workbook = xlsxwriter.Workbook(CDPath)\n",
    "    #materias=obtenerListadoMaterias(1)\n",
    "    #for i in range(len(materias)):\n",
    "    #    worksheet = workbook.add_worksheet(materias[i])\n",
    "    #workbook.close()\n",
    "    #print('DataFrame is written successfully to Excel Sheet.')\n",
    "    \n",
    "\n",
    "    flag=True\n",
    "    while flag==True:    \n",
    "        for i in range(len(mBase)):\n",
    "            #Comando para crear un driver usando el ejecutable de ChromeDriver y este se retorna \n",
    "            #siendo almacenado en ChromeDriver\n",
    "            ChromeDriver=creacionDriver(sedePrincipalURL)\n",
    "            \n",
    "            #This 2 lines are for printing the course name\n",
    "            print('\\n')\n",
    "            print('Para la asignatura '+mBase[i]+'\\n\\n')\n",
    "            #---------------------------------------------\n",
    "            \n",
    "            explorar(mBase[i],ChromeDriver)\n",
    "            Codigo_asignatura,Nombre_asignatura,Grupo,Capacidad,Matriculados,Schedule=obtenerResultados(ChromeDriver,mBase[i])\n",
    "\n",
    "            #Creates pandas DataFrame.\n",
    "            df1 = pd.DataFrame(list(zip(Codigo_asignatura, Nombre_asignatura,Grupo,Capacidad,Matriculados)),\n",
    "                   columns =['Código asignatura', 'Nombre asignatura', 'Grupo', 'Capacidad', 'Matriculados'])\n",
    "\n",
    "            df2=pd.DataFrame({'Horario':Schedule})\n",
    "\n",
    "            \n",
    "            df=pd.merge(\n",
    "                df1,\n",
    "                df2,\n",
    "                how='left',\n",
    "                left_index=True, # Merge on both indexes, since right only has 0...\n",
    "                right_index=True # all the other rows will be NaN\n",
    "            )\n",
    "\n",
    "            #This lines are for printing the whole pandas dataframe on each course. \n",
    "            #df.index = np.arange(1,len(df)+1)#para comenzar el index en 1\n",
    "            #with pd.option_context('display.max_rows', None, 'display.max_columns', None):  # more options \n",
    "                #-->can be specified also\n",
    "            #    print(df)\n",
    "\n",
    "            mother.append(df)\n",
    "            \n",
    "            \n",
    "        tmp=input('Desea continuar evaluando 1:Sí, 2:No: ')\n",
    "        if tmp=='1':\n",
    "            flag=True\n",
    "            ChromeDriver.close()\n",
    "            mBase=obtenerListadoMaterias(0)\n",
    "        else:\n",
    "            flag=False\n",
    "            createsAndSavesFinalProduct(mother,mBase,sede)\n",
    "            ChromeDriver.close()\n",
    "            explorar_finish(ChromeDriver)\n",
    "else: \n",
    "    print(\"Estamos en Windows, nea\")"
   ]
  },
  {
   "cell_type": "code",
   "execution_count": 3,
   "metadata": {},
   "outputs": [
    {
     "ename": "NameError",
     "evalue": "name 'mother' is not defined",
     "output_type": "error",
     "traceback": [
      "\u001b[0;31m---------------------------------------------------------------------------\u001b[0m",
      "\u001b[0;31mNameError\u001b[0m                                 Traceback (most recent call last)",
      "\u001b[0;32m<ipython-input-3-67526ae0c039>\u001b[0m in \u001b[0;36m<module>\u001b[0;34m\u001b[0m\n\u001b[0;32m----> 1\u001b[0;31m \u001b[0mprint\u001b[0m\u001b[0;34m(\u001b[0m\u001b[0mmother\u001b[0m\u001b[0;34m[\u001b[0m\u001b[0;36m1\u001b[0m\u001b[0;34m]\u001b[0m\u001b[0;34m[\u001b[0m\u001b[0;34m'Horario'\u001b[0m\u001b[0;34m]\u001b[0m\u001b[0;34m[\u001b[0m\u001b[0;36m1\u001b[0m\u001b[0;34m]\u001b[0m\u001b[0;34m)\u001b[0m\u001b[0;34m\u001b[0m\u001b[0;34m\u001b[0m\u001b[0m\n\u001b[0m\u001b[1;32m      2\u001b[0m \u001b[0mprint\u001b[0m\u001b[0;34m(\u001b[0m\u001b[0mtype\u001b[0m\u001b[0;34m(\u001b[0m\u001b[0mmother\u001b[0m\u001b[0;34m[\u001b[0m\u001b[0;36m1\u001b[0m\u001b[0;34m]\u001b[0m\u001b[0;34m[\u001b[0m\u001b[0;34m'Horario'\u001b[0m\u001b[0;34m]\u001b[0m\u001b[0;34m[\u001b[0m\u001b[0;36m1\u001b[0m\u001b[0;34m]\u001b[0m\u001b[0;34m)\u001b[0m\u001b[0;34m)\u001b[0m\u001b[0;34m\u001b[0m\u001b[0;34m\u001b[0m\u001b[0m\n",
      "\u001b[0;31mNameError\u001b[0m: name 'mother' is not defined"
     ]
    }
   ],
   "source": [
    "print(mother[1]['Horario'][1])\n",
    "print(type(mother[1]['Horario'][1]))\n"
   ]
  },
  {
   "cell_type": "code",
   "execution_count": 4,
   "metadata": {},
   "outputs": [
    {
     "name": "stdout",
     "output_type": "stream",
     "text": [
      "<class 'pandas.core.frame.DataFrame'>\n"
     ]
    }
   ],
   "source": [
    "print(type(mother[1]))"
   ]
  },
  {
   "cell_type": "code",
   "execution_count": 4,
   "metadata": {},
   "outputs": [
    {
     "ename": "NameError",
     "evalue": "name 'all_df' is not defined",
     "output_type": "error",
     "traceback": [
      "\u001b[0;31m---------------------------------------------------------------------------\u001b[0m",
      "\u001b[0;31mNameError\u001b[0m                                 Traceback (most recent call last)",
      "\u001b[0;32m<ipython-input-4-465837ba6584>\u001b[0m in \u001b[0;36m<module>\u001b[0;34m\u001b[0m\n\u001b[0;32m----> 1\u001b[0;31m \u001b[0mprint\u001b[0m\u001b[0;34m(\u001b[0m\u001b[0mall_df\u001b[0m\u001b[0;34m)\u001b[0m\u001b[0;34m\u001b[0m\u001b[0;34m\u001b[0m\u001b[0m\n\u001b[0m",
      "\u001b[0;31mNameError\u001b[0m: name 'all_df' is not defined"
     ]
    }
   ],
   "source": [
    "print(all_df)"
   ]
  },
  {
   "cell_type": "code",
   "execution_count": 5,
   "metadata": {},
   "outputs": [],
   "source": [
    "import qrcode\n",
    "img = qrcode.make('https://drive.google.com/file/d/13HF-fDlOObe_8H4uV4_dRQjoxagJ4P3r/view?usp=sharing')\n",
    "img.save(\"AgeBio-2021_2-Bucaramanga-V1.0-20211011.png\")"
   ]
  },
  {
   "cell_type": "code",
   "execution_count": 19,
   "metadata": {},
   "outputs": [],
   "source": [
    "#Avanzado\n",
    "\n",
    "import qrcode\n",
    "qr = qrcode.QRCode(\n",
    "    version=1,\n",
    "    error_correction=qrcode.constants.ERROR_CORRECT_L,\n",
    "    box_size=1,\n",
    "    border=5,\n",
    ")\n",
    "qr.add_data('https://drive.google.com/file/d/13HF-fDlOObe_8H4uV4_dRQjoxagJ4P3r/view?usp=sharing')\n",
    "qr.make(fit=True)\n",
    "img = qr.make_image(fill_color=\"black\", back_color=\"white\")\n",
    "img.save(\"AgeBio-2021_2-Bucaramanga-V1.0-20211011.png\")\n"
   ]
  },
  {
   "cell_type": "code",
   "execution_count": null,
   "metadata": {},
   "outputs": [],
   "source": []
  }
 ],
 "metadata": {
  "kernelspec": {
   "display_name": "Python 3",
   "language": "python",
   "name": "python3"
  },
  "language_info": {
   "codemirror_mode": {
    "name": "ipython",
    "version": 3
   },
   "file_extension": ".py",
   "mimetype": "text/x-python",
   "name": "python",
   "nbconvert_exporter": "python",
   "pygments_lexer": "ipython3",
   "version": "3.8.5"
  }
 },
 "nbformat": 4,
 "nbformat_minor": 4
}
